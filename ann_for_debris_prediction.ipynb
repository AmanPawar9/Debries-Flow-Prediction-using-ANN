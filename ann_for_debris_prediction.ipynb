{
  "nbformat": 4,
  "nbformat_minor": 0,
  "metadata": {
    "colab": {
      "name": "ann for debris prediction.ipynb",
      "provenance": [],
      "include_colab_link": true
    },
    "kernelspec": {
      "name": "python3",
      "display_name": "Python 3"
    },
    "language_info": {
      "name": "python"
    },
    "accelerator": "TPU"
  },
  "cells": [
    {
      "cell_type": "markdown",
      "metadata": {
        "id": "view-in-github",
        "colab_type": "text"
      },
      "source": [
        "<a href=\"https://colab.research.google.com/github/AmanPawar9/Debries-Flow-Prediction-using-ANN/blob/main/ann_for_debris_prediction.ipynb\" target=\"_parent\"><img src=\"https://colab.research.google.com/assets/colab-badge.svg\" alt=\"Open In Colab\"/></a>"
      ]
    },
    {
      "cell_type": "code",
      "metadata": {
        "colab": {
          "base_uri": "https://localhost:8080/"
        },
        "id": "9EVJX2pos7yE",
        "outputId": "fc1bd136-18ab-4156-c002-97dc267e326b"
      },
      "source": [
        " \n",
        "from google.colab import drive\n",
        "drive.mount('/content/gdrive')"
      ],
      "execution_count": null,
      "outputs": [
        {
          "output_type": "stream",
          "text": [
            "Mounted at /content/gdrive\n"
          ],
          "name": "stdout"
        }
      ]
    },
    {
      "cell_type": "markdown",
      "metadata": {
        "id": "9aPJv0DdOAxl"
      },
      "source": [
        "**mounting gdrive**"
      ]
    },
    {
      "cell_type": "code",
      "metadata": {
        "colab": {
          "base_uri": "https://localhost:8080/"
        },
        "id": "KkFuJ-k_t0wD",
        "outputId": "7a4f9629-d542-46f4-c22f-8359ad233171"
      },
      "source": [
        "!ls"
      ],
      "execution_count": null,
      "outputs": [
        {
          "output_type": "stream",
          "text": [
            " LL.csv\t\t        Map_ploting.csv   Susceptability_Tiff.tif\n",
            " Main_output.csv        my_model.h5\t 'Training and Testing data.csv'\n",
            "'Map_ploting (1).csv'   Predictions.csv   weights\n"
          ],
          "name": "stdout"
        }
      ]
    },
    {
      "cell_type": "code",
      "metadata": {
        "colab": {
          "base_uri": "https://localhost:8080/"
        },
        "id": "KFFuqDDS2pxn",
        "outputId": "4b922019-b361-4ae0-eefc-4d3ed3e02892"
      },
      "source": [
        "%cd /content/gdrive/MyDrive/Colab Notebooks/IES/ANN"
      ],
      "execution_count": null,
      "outputs": [
        {
          "output_type": "stream",
          "text": [
            "/content/gdrive/MyDrive/Colab Notebooks/IES/ANN\n"
          ],
          "name": "stdout"
        }
      ]
    },
    {
      "cell_type": "code",
      "metadata": {
        "id": "vxNqf6cB3iao"
      },
      "source": [
        "import tensorflow as tf\n",
        "import numpy as np\n",
        "import pandas as pd\n",
        "import sklearn\n",
        "from sklearn.metrics import confusion_matrix\n",
        "from tensorflow import keras\n",
        "from tensorflow.keras import layers\n",
        "from tensorflow.keras.layers.experimental.preprocessing import Normalization\n",
        "import matplotlib\n",
        "import matplotlib.pyplot as plt\n",
        "\n",
        "matplotlib.rcParams['figure.figsize'] = (8,12)\n",
        "colors = plt.rcParams['axes.prop_cycle'].by_key()['color']"
      ],
      "execution_count": null,
      "outputs": []
    },
    {
      "cell_type": "code",
      "metadata": {
        "colab": {
          "base_uri": "https://localhost:8080/",
          "height": 35
        },
        "id": "gFfYXhzK4-cv",
        "outputId": "1e4c2f24-5c00-410e-e723-810db1ca2c4d"
      },
      "source": [
        "tf.__version__\n"
      ],
      "execution_count": null,
      "outputs": [
        {
          "output_type": "execute_result",
          "data": {
            "application/vnd.google.colaboratory.intrinsic+json": {
              "type": "string"
            },
            "text/plain": [
              "'2.5.0'"
            ]
          },
          "metadata": {
            "tags": []
          },
          "execution_count": 7
        }
      ]
    },
    {
      "cell_type": "code",
      "metadata": {
        "colab": {
          "base_uri": "https://localhost:8080/"
        },
        "id": "MY1yQur_MFSC",
        "outputId": "ca351ccc-f0d7-4ff2-be6c-ea7b6523cd66"
      },
      "source": [
        "!ls"
      ],
      "execution_count": null,
      "outputs": [
        {
          "output_type": "stream",
          "text": [
            " LL.csv\t\t        Map_ploting.csv   Susceptability_Tiff.tif\n",
            " Main_output.csv        my_model.h5\t 'Training and Testing data.csv'\n",
            "'Map_ploting (1).csv'   Predictions.csv   weights\n"
          ],
          "name": "stdout"
        }
      ]
    },
    {
      "cell_type": "code",
      "metadata": {
        "colab": {
          "base_uri": "https://localhost:8080/",
          "height": 413
        },
        "id": "A03dROpD5DBn",
        "outputId": "d1ee8a90-802c-4272-c3b8-d53683249d14"
      },
      "source": [
        "dataframe = pd.read_csv('Training_and_Testing_data.csv')\n",
        "dataframe.shape"
      ],
      "execution_count": null,
      "outputs": [
        {
          "output_type": "error",
          "ename": "FileNotFoundError",
          "evalue": "ignored",
          "traceback": [
            "\u001b[0;31m---------------------------------------------------------------------------\u001b[0m",
            "\u001b[0;31mFileNotFoundError\u001b[0m                         Traceback (most recent call last)",
            "\u001b[0;32m<ipython-input-11-364c9db1562f>\u001b[0m in \u001b[0;36m<module>\u001b[0;34m()\u001b[0m\n\u001b[0;32m----> 1\u001b[0;31m \u001b[0mdataframe\u001b[0m \u001b[0;34m=\u001b[0m \u001b[0mpd\u001b[0m\u001b[0;34m.\u001b[0m\u001b[0mread_csv\u001b[0m\u001b[0;34m(\u001b[0m\u001b[0;34m'Training_and_Testing_data.csv'\u001b[0m\u001b[0;34m)\u001b[0m\u001b[0;34m\u001b[0m\u001b[0;34m\u001b[0m\u001b[0m\n\u001b[0m\u001b[1;32m      2\u001b[0m \u001b[0mdataframe\u001b[0m\u001b[0;34m.\u001b[0m\u001b[0mshape\u001b[0m\u001b[0;34m\u001b[0m\u001b[0;34m\u001b[0m\u001b[0m\n",
            "\u001b[0;32m/usr/local/lib/python3.7/dist-packages/pandas/io/parsers.py\u001b[0m in \u001b[0;36mread_csv\u001b[0;34m(filepath_or_buffer, sep, delimiter, header, names, index_col, usecols, squeeze, prefix, mangle_dupe_cols, dtype, engine, converters, true_values, false_values, skipinitialspace, skiprows, skipfooter, nrows, na_values, keep_default_na, na_filter, verbose, skip_blank_lines, parse_dates, infer_datetime_format, keep_date_col, date_parser, dayfirst, cache_dates, iterator, chunksize, compression, thousands, decimal, lineterminator, quotechar, quoting, doublequote, escapechar, comment, encoding, dialect, error_bad_lines, warn_bad_lines, delim_whitespace, low_memory, memory_map, float_precision)\u001b[0m\n\u001b[1;32m    686\u001b[0m     )\n\u001b[1;32m    687\u001b[0m \u001b[0;34m\u001b[0m\u001b[0m\n\u001b[0;32m--> 688\u001b[0;31m     \u001b[0;32mreturn\u001b[0m \u001b[0m_read\u001b[0m\u001b[0;34m(\u001b[0m\u001b[0mfilepath_or_buffer\u001b[0m\u001b[0;34m,\u001b[0m \u001b[0mkwds\u001b[0m\u001b[0;34m)\u001b[0m\u001b[0;34m\u001b[0m\u001b[0;34m\u001b[0m\u001b[0m\n\u001b[0m\u001b[1;32m    689\u001b[0m \u001b[0;34m\u001b[0m\u001b[0m\n\u001b[1;32m    690\u001b[0m \u001b[0;34m\u001b[0m\u001b[0m\n",
            "\u001b[0;32m/usr/local/lib/python3.7/dist-packages/pandas/io/parsers.py\u001b[0m in \u001b[0;36m_read\u001b[0;34m(filepath_or_buffer, kwds)\u001b[0m\n\u001b[1;32m    452\u001b[0m \u001b[0;34m\u001b[0m\u001b[0m\n\u001b[1;32m    453\u001b[0m     \u001b[0;31m# Create the parser.\u001b[0m\u001b[0;34m\u001b[0m\u001b[0;34m\u001b[0m\u001b[0;34m\u001b[0m\u001b[0m\n\u001b[0;32m--> 454\u001b[0;31m     \u001b[0mparser\u001b[0m \u001b[0;34m=\u001b[0m \u001b[0mTextFileReader\u001b[0m\u001b[0;34m(\u001b[0m\u001b[0mfp_or_buf\u001b[0m\u001b[0;34m,\u001b[0m \u001b[0;34m**\u001b[0m\u001b[0mkwds\u001b[0m\u001b[0;34m)\u001b[0m\u001b[0;34m\u001b[0m\u001b[0;34m\u001b[0m\u001b[0m\n\u001b[0m\u001b[1;32m    455\u001b[0m \u001b[0;34m\u001b[0m\u001b[0m\n\u001b[1;32m    456\u001b[0m     \u001b[0;32mif\u001b[0m \u001b[0mchunksize\u001b[0m \u001b[0;32mor\u001b[0m \u001b[0miterator\u001b[0m\u001b[0;34m:\u001b[0m\u001b[0;34m\u001b[0m\u001b[0;34m\u001b[0m\u001b[0m\n",
            "\u001b[0;32m/usr/local/lib/python3.7/dist-packages/pandas/io/parsers.py\u001b[0m in \u001b[0;36m__init__\u001b[0;34m(self, f, engine, **kwds)\u001b[0m\n\u001b[1;32m    946\u001b[0m             \u001b[0mself\u001b[0m\u001b[0;34m.\u001b[0m\u001b[0moptions\u001b[0m\u001b[0;34m[\u001b[0m\u001b[0;34m\"has_index_names\"\u001b[0m\u001b[0;34m]\u001b[0m \u001b[0;34m=\u001b[0m \u001b[0mkwds\u001b[0m\u001b[0;34m[\u001b[0m\u001b[0;34m\"has_index_names\"\u001b[0m\u001b[0;34m]\u001b[0m\u001b[0;34m\u001b[0m\u001b[0;34m\u001b[0m\u001b[0m\n\u001b[1;32m    947\u001b[0m \u001b[0;34m\u001b[0m\u001b[0m\n\u001b[0;32m--> 948\u001b[0;31m         \u001b[0mself\u001b[0m\u001b[0;34m.\u001b[0m\u001b[0m_make_engine\u001b[0m\u001b[0;34m(\u001b[0m\u001b[0mself\u001b[0m\u001b[0;34m.\u001b[0m\u001b[0mengine\u001b[0m\u001b[0;34m)\u001b[0m\u001b[0;34m\u001b[0m\u001b[0;34m\u001b[0m\u001b[0m\n\u001b[0m\u001b[1;32m    949\u001b[0m \u001b[0;34m\u001b[0m\u001b[0m\n\u001b[1;32m    950\u001b[0m     \u001b[0;32mdef\u001b[0m \u001b[0mclose\u001b[0m\u001b[0;34m(\u001b[0m\u001b[0mself\u001b[0m\u001b[0;34m)\u001b[0m\u001b[0;34m:\u001b[0m\u001b[0;34m\u001b[0m\u001b[0;34m\u001b[0m\u001b[0m\n",
            "\u001b[0;32m/usr/local/lib/python3.7/dist-packages/pandas/io/parsers.py\u001b[0m in \u001b[0;36m_make_engine\u001b[0;34m(self, engine)\u001b[0m\n\u001b[1;32m   1178\u001b[0m     \u001b[0;32mdef\u001b[0m \u001b[0m_make_engine\u001b[0m\u001b[0;34m(\u001b[0m\u001b[0mself\u001b[0m\u001b[0;34m,\u001b[0m \u001b[0mengine\u001b[0m\u001b[0;34m=\u001b[0m\u001b[0;34m\"c\"\u001b[0m\u001b[0;34m)\u001b[0m\u001b[0;34m:\u001b[0m\u001b[0;34m\u001b[0m\u001b[0;34m\u001b[0m\u001b[0m\n\u001b[1;32m   1179\u001b[0m         \u001b[0;32mif\u001b[0m \u001b[0mengine\u001b[0m \u001b[0;34m==\u001b[0m \u001b[0;34m\"c\"\u001b[0m\u001b[0;34m:\u001b[0m\u001b[0;34m\u001b[0m\u001b[0;34m\u001b[0m\u001b[0m\n\u001b[0;32m-> 1180\u001b[0;31m             \u001b[0mself\u001b[0m\u001b[0;34m.\u001b[0m\u001b[0m_engine\u001b[0m \u001b[0;34m=\u001b[0m \u001b[0mCParserWrapper\u001b[0m\u001b[0;34m(\u001b[0m\u001b[0mself\u001b[0m\u001b[0;34m.\u001b[0m\u001b[0mf\u001b[0m\u001b[0;34m,\u001b[0m \u001b[0;34m**\u001b[0m\u001b[0mself\u001b[0m\u001b[0;34m.\u001b[0m\u001b[0moptions\u001b[0m\u001b[0;34m)\u001b[0m\u001b[0;34m\u001b[0m\u001b[0;34m\u001b[0m\u001b[0m\n\u001b[0m\u001b[1;32m   1181\u001b[0m         \u001b[0;32melse\u001b[0m\u001b[0;34m:\u001b[0m\u001b[0;34m\u001b[0m\u001b[0;34m\u001b[0m\u001b[0m\n\u001b[1;32m   1182\u001b[0m             \u001b[0;32mif\u001b[0m \u001b[0mengine\u001b[0m \u001b[0;34m==\u001b[0m \u001b[0;34m\"python\"\u001b[0m\u001b[0;34m:\u001b[0m\u001b[0;34m\u001b[0m\u001b[0;34m\u001b[0m\u001b[0m\n",
            "\u001b[0;32m/usr/local/lib/python3.7/dist-packages/pandas/io/parsers.py\u001b[0m in \u001b[0;36m__init__\u001b[0;34m(self, src, **kwds)\u001b[0m\n\u001b[1;32m   2008\u001b[0m         \u001b[0mkwds\u001b[0m\u001b[0;34m[\u001b[0m\u001b[0;34m\"usecols\"\u001b[0m\u001b[0;34m]\u001b[0m \u001b[0;34m=\u001b[0m \u001b[0mself\u001b[0m\u001b[0;34m.\u001b[0m\u001b[0musecols\u001b[0m\u001b[0;34m\u001b[0m\u001b[0;34m\u001b[0m\u001b[0m\n\u001b[1;32m   2009\u001b[0m \u001b[0;34m\u001b[0m\u001b[0m\n\u001b[0;32m-> 2010\u001b[0;31m         \u001b[0mself\u001b[0m\u001b[0;34m.\u001b[0m\u001b[0m_reader\u001b[0m \u001b[0;34m=\u001b[0m \u001b[0mparsers\u001b[0m\u001b[0;34m.\u001b[0m\u001b[0mTextReader\u001b[0m\u001b[0;34m(\u001b[0m\u001b[0msrc\u001b[0m\u001b[0;34m,\u001b[0m \u001b[0;34m**\u001b[0m\u001b[0mkwds\u001b[0m\u001b[0;34m)\u001b[0m\u001b[0;34m\u001b[0m\u001b[0;34m\u001b[0m\u001b[0m\n\u001b[0m\u001b[1;32m   2011\u001b[0m         \u001b[0mself\u001b[0m\u001b[0;34m.\u001b[0m\u001b[0munnamed_cols\u001b[0m \u001b[0;34m=\u001b[0m \u001b[0mself\u001b[0m\u001b[0;34m.\u001b[0m\u001b[0m_reader\u001b[0m\u001b[0;34m.\u001b[0m\u001b[0munnamed_cols\u001b[0m\u001b[0;34m\u001b[0m\u001b[0;34m\u001b[0m\u001b[0m\n\u001b[1;32m   2012\u001b[0m \u001b[0;34m\u001b[0m\u001b[0m\n",
            "\u001b[0;32mpandas/_libs/parsers.pyx\u001b[0m in \u001b[0;36mpandas._libs.parsers.TextReader.__cinit__\u001b[0;34m()\u001b[0m\n",
            "\u001b[0;32mpandas/_libs/parsers.pyx\u001b[0m in \u001b[0;36mpandas._libs.parsers.TextReader._setup_parser_source\u001b[0;34m()\u001b[0m\n",
            "\u001b[0;31mFileNotFoundError\u001b[0m: [Errno 2] No such file or directory: 'Training_and_Testing_data.csv'"
          ]
        }
      ]
    },
    {
      "cell_type": "code",
      "metadata": {
        "colab": {
          "base_uri": "https://localhost:8080/"
        },
        "id": "YLkMmkV45YBB",
        "outputId": "0272112b-6e1f-4277-aeb9-ccc01c5e314d"
      },
      "source": [
        "!ls\n"
      ],
      "execution_count": null,
      "outputs": [
        {
          "output_type": "stream",
          "text": [
            "'Training and Testing data.csv'   vertopal.com_Code.ipynb\n"
          ],
          "name": "stdout"
        }
      ]
    },
    {
      "cell_type": "code",
      "metadata": {
        "colab": {
          "base_uri": "https://localhost:8080/"
        },
        "id": "0pInD8et5Zcb",
        "outputId": "f193f14c-354b-4751-c173-0ec293afbeb6"
      },
      "source": [
        "dataframe = pd.read_csv('Training and Testing data.csv')\n",
        "dataframe.shape"
      ],
      "execution_count": null,
      "outputs": [
        {
          "output_type": "execute_result",
          "data": {
            "text/plain": [
              "(1109, 10)"
            ]
          },
          "metadata": {
            "tags": []
          },
          "execution_count": 13
        }
      ]
    },
    {
      "cell_type": "code",
      "metadata": {
        "colab": {
          "base_uri": "https://localhost:8080/",
          "height": 203
        },
        "id": "adhUzy7d5t63",
        "outputId": "6cfdc70e-0921-4a5b-944c-bbbb4add2e70"
      },
      "source": [
        "dataframe.head()"
      ],
      "execution_count": null,
      "outputs": [
        {
          "output_type": "execute_result",
          "data": {
            "text/html": [
              "<div>\n",
              "<style scoped>\n",
              "    .dataframe tbody tr th:only-of-type {\n",
              "        vertical-align: middle;\n",
              "    }\n",
              "\n",
              "    .dataframe tbody tr th {\n",
              "        vertical-align: top;\n",
              "    }\n",
              "\n",
              "    .dataframe thead th {\n",
              "        text-align: right;\n",
              "    }\n",
              "</style>\n",
              "<table border=\"1\" class=\"dataframe\">\n",
              "  <thead>\n",
              "    <tr style=\"text-align: right;\">\n",
              "      <th></th>\n",
              "      <th>OBJECTID</th>\n",
              "      <th>Debris</th>\n",
              "      <th>Aspect</th>\n",
              "      <th>dist_drain</th>\n",
              "      <th>Fac</th>\n",
              "      <th>NDVI</th>\n",
              "      <th>slope_deg</th>\n",
              "      <th>Elevation</th>\n",
              "      <th>TPI_Index</th>\n",
              "      <th>TWI_Index</th>\n",
              "    </tr>\n",
              "  </thead>\n",
              "  <tbody>\n",
              "    <tr>\n",
              "      <th>0</th>\n",
              "      <td>1</td>\n",
              "      <td>0</td>\n",
              "      <td>235.5390</td>\n",
              "      <td>424.264</td>\n",
              "      <td>246</td>\n",
              "      <td>0.014274</td>\n",
              "      <td>28.32220</td>\n",
              "      <td>4396</td>\n",
              "      <td>-1.045380</td>\n",
              "      <td>9.48417</td>\n",
              "    </tr>\n",
              "    <tr>\n",
              "      <th>1</th>\n",
              "      <td>2</td>\n",
              "      <td>0</td>\n",
              "      <td>148.5700</td>\n",
              "      <td>6207.100</td>\n",
              "      <td>8</td>\n",
              "      <td>-0.008422</td>\n",
              "      <td>10.41490</td>\n",
              "      <td>5846</td>\n",
              "      <td>0.064828</td>\n",
              "      <td>7.24776</td>\n",
              "    </tr>\n",
              "    <tr>\n",
              "      <th>2</th>\n",
              "      <td>3</td>\n",
              "      <td>0</td>\n",
              "      <td>259.9920</td>\n",
              "      <td>1972.030</td>\n",
              "      <td>1</td>\n",
              "      <td>-0.001264</td>\n",
              "      <td>8.55379</td>\n",
              "      <td>5466</td>\n",
              "      <td>-0.139504</td>\n",
              "      <td>5.94417</td>\n",
              "    </tr>\n",
              "    <tr>\n",
              "      <th>3</th>\n",
              "      <td>4</td>\n",
              "      <td>0</td>\n",
              "      <td>322.9430</td>\n",
              "      <td>4714.580</td>\n",
              "      <td>1</td>\n",
              "      <td>-0.038678</td>\n",
              "      <td>28.14610</td>\n",
              "      <td>5391</td>\n",
              "      <td>0.524576</td>\n",
              "      <td>4.67530</td>\n",
              "    </tr>\n",
              "    <tr>\n",
              "      <th>4</th>\n",
              "      <td>5</td>\n",
              "      <td>0</td>\n",
              "      <td>31.6075</td>\n",
              "      <td>1772.290</td>\n",
              "      <td>0</td>\n",
              "      <td>-0.015655</td>\n",
              "      <td>7.57583</td>\n",
              "      <td>4977</td>\n",
              "      <td>-0.769529</td>\n",
              "      <td>5.37405</td>\n",
              "    </tr>\n",
              "  </tbody>\n",
              "</table>\n",
              "</div>"
            ],
            "text/plain": [
              "   OBJECTID  Debris    Aspect  ...  Elevation  TPI_Index  TWI_Index\n",
              "0         1       0  235.5390  ...       4396  -1.045380    9.48417\n",
              "1         2       0  148.5700  ...       5846   0.064828    7.24776\n",
              "2         3       0  259.9920  ...       5466  -0.139504    5.94417\n",
              "3         4       0  322.9430  ...       5391   0.524576    4.67530\n",
              "4         5       0   31.6075  ...       4977  -0.769529    5.37405\n",
              "\n",
              "[5 rows x 10 columns]"
            ]
          },
          "metadata": {
            "tags": []
          },
          "execution_count": 12
        }
      ]
    },
    {
      "cell_type": "code",
      "metadata": {
        "id": "ExutymI152Tx"
      },
      "source": [
        "dataframe = dataframe.drop('OBJECTID', axis=1)"
      ],
      "execution_count": null,
      "outputs": []
    },
    {
      "cell_type": "code",
      "metadata": {
        "colab": {
          "base_uri": "https://localhost:8080/",
          "height": 203
        },
        "id": "IM_IJK99556P",
        "outputId": "54f68960-de11-4292-bd38-28f73e7c01fe"
      },
      "source": [
        "dataframe.head()"
      ],
      "execution_count": null,
      "outputs": [
        {
          "output_type": "execute_result",
          "data": {
            "text/html": [
              "<div>\n",
              "<style scoped>\n",
              "    .dataframe tbody tr th:only-of-type {\n",
              "        vertical-align: middle;\n",
              "    }\n",
              "\n",
              "    .dataframe tbody tr th {\n",
              "        vertical-align: top;\n",
              "    }\n",
              "\n",
              "    .dataframe thead th {\n",
              "        text-align: right;\n",
              "    }\n",
              "</style>\n",
              "<table border=\"1\" class=\"dataframe\">\n",
              "  <thead>\n",
              "    <tr style=\"text-align: right;\">\n",
              "      <th></th>\n",
              "      <th>Debris</th>\n",
              "      <th>Aspect</th>\n",
              "      <th>dist_drain</th>\n",
              "      <th>Fac</th>\n",
              "      <th>NDVI</th>\n",
              "      <th>slope_deg</th>\n",
              "      <th>Elevation</th>\n",
              "      <th>TPI_Index</th>\n",
              "      <th>TWI_Index</th>\n",
              "    </tr>\n",
              "  </thead>\n",
              "  <tbody>\n",
              "    <tr>\n",
              "      <th>0</th>\n",
              "      <td>0</td>\n",
              "      <td>235.5390</td>\n",
              "      <td>424.264</td>\n",
              "      <td>246</td>\n",
              "      <td>0.014274</td>\n",
              "      <td>28.32220</td>\n",
              "      <td>4396</td>\n",
              "      <td>-1.045380</td>\n",
              "      <td>9.48417</td>\n",
              "    </tr>\n",
              "    <tr>\n",
              "      <th>1</th>\n",
              "      <td>0</td>\n",
              "      <td>148.5700</td>\n",
              "      <td>6207.100</td>\n",
              "      <td>8</td>\n",
              "      <td>-0.008422</td>\n",
              "      <td>10.41490</td>\n",
              "      <td>5846</td>\n",
              "      <td>0.064828</td>\n",
              "      <td>7.24776</td>\n",
              "    </tr>\n",
              "    <tr>\n",
              "      <th>2</th>\n",
              "      <td>0</td>\n",
              "      <td>259.9920</td>\n",
              "      <td>1972.030</td>\n",
              "      <td>1</td>\n",
              "      <td>-0.001264</td>\n",
              "      <td>8.55379</td>\n",
              "      <td>5466</td>\n",
              "      <td>-0.139504</td>\n",
              "      <td>5.94417</td>\n",
              "    </tr>\n",
              "    <tr>\n",
              "      <th>3</th>\n",
              "      <td>0</td>\n",
              "      <td>322.9430</td>\n",
              "      <td>4714.580</td>\n",
              "      <td>1</td>\n",
              "      <td>-0.038678</td>\n",
              "      <td>28.14610</td>\n",
              "      <td>5391</td>\n",
              "      <td>0.524576</td>\n",
              "      <td>4.67530</td>\n",
              "    </tr>\n",
              "    <tr>\n",
              "      <th>4</th>\n",
              "      <td>0</td>\n",
              "      <td>31.6075</td>\n",
              "      <td>1772.290</td>\n",
              "      <td>0</td>\n",
              "      <td>-0.015655</td>\n",
              "      <td>7.57583</td>\n",
              "      <td>4977</td>\n",
              "      <td>-0.769529</td>\n",
              "      <td>5.37405</td>\n",
              "    </tr>\n",
              "  </tbody>\n",
              "</table>\n",
              "</div>"
            ],
            "text/plain": [
              "   Debris    Aspect  dist_drain  ...  Elevation  TPI_Index  TWI_Index\n",
              "0       0  235.5390     424.264  ...       4396  -1.045380    9.48417\n",
              "1       0  148.5700    6207.100  ...       5846   0.064828    7.24776\n",
              "2       0  259.9920    1972.030  ...       5466  -0.139504    5.94417\n",
              "3       0  322.9430    4714.580  ...       5391   0.524576    4.67530\n",
              "4       0   31.6075    1772.290  ...       4977  -0.769529    5.37405\n",
              "\n",
              "[5 rows x 9 columns]"
            ]
          },
          "metadata": {
            "tags": []
          },
          "execution_count": 14
        }
      ]
    },
    {
      "cell_type": "code",
      "metadata": {
        "colab": {
          "base_uri": "https://localhost:8080/"
        },
        "id": "I_Feqsa1598Q",
        "outputId": "45bd23ff-d8c1-4077-e0e2-7906f0a31dfc"
      },
      "source": [
        "val_dataframe = dataframe.sample(frac=0.3, random_state=1001)\n",
        "train_dataframe = dataframe.drop(val_dataframe.index)\n",
        "\n",
        "print(\"Using %d samples for training and %d for validation\" % (len(train_dataframe), len(val_dataframe)))"
      ],
      "execution_count": null,
      "outputs": [
        {
          "output_type": "stream",
          "text": [
            "Using 776 samples for training and 333 for validation\n"
          ],
          "name": "stdout"
        }
      ]
    },
    {
      "cell_type": "code",
      "metadata": {
        "colab": {
          "base_uri": "https://localhost:8080/",
          "height": 203
        },
        "id": "UN7oYg_Y6D2Y",
        "outputId": "3fc075b7-725e-4353-8b06-7f3a92f5915b"
      },
      "source": [
        "train_dataframe.head()"
      ],
      "execution_count": null,
      "outputs": [
        {
          "output_type": "execute_result",
          "data": {
            "text/html": [
              "<div>\n",
              "<style scoped>\n",
              "    .dataframe tbody tr th:only-of-type {\n",
              "        vertical-align: middle;\n",
              "    }\n",
              "\n",
              "    .dataframe tbody tr th {\n",
              "        vertical-align: top;\n",
              "    }\n",
              "\n",
              "    .dataframe thead th {\n",
              "        text-align: right;\n",
              "    }\n",
              "</style>\n",
              "<table border=\"1\" class=\"dataframe\">\n",
              "  <thead>\n",
              "    <tr style=\"text-align: right;\">\n",
              "      <th></th>\n",
              "      <th>Debris</th>\n",
              "      <th>Aspect</th>\n",
              "      <th>dist_drain</th>\n",
              "      <th>Fac</th>\n",
              "      <th>NDVI</th>\n",
              "      <th>slope_deg</th>\n",
              "      <th>Elevation</th>\n",
              "      <th>TPI_Index</th>\n",
              "      <th>TWI_Index</th>\n",
              "    </tr>\n",
              "  </thead>\n",
              "  <tbody>\n",
              "    <tr>\n",
              "      <th>0</th>\n",
              "      <td>0</td>\n",
              "      <td>235.5390</td>\n",
              "      <td>424.264</td>\n",
              "      <td>246</td>\n",
              "      <td>0.014274</td>\n",
              "      <td>28.32220</td>\n",
              "      <td>4396</td>\n",
              "      <td>-1.045380</td>\n",
              "      <td>9.48417</td>\n",
              "    </tr>\n",
              "    <tr>\n",
              "      <th>1</th>\n",
              "      <td>0</td>\n",
              "      <td>148.5700</td>\n",
              "      <td>6207.100</td>\n",
              "      <td>8</td>\n",
              "      <td>-0.008422</td>\n",
              "      <td>10.41490</td>\n",
              "      <td>5846</td>\n",
              "      <td>0.064828</td>\n",
              "      <td>7.24776</td>\n",
              "    </tr>\n",
              "    <tr>\n",
              "      <th>2</th>\n",
              "      <td>0</td>\n",
              "      <td>259.9920</td>\n",
              "      <td>1972.030</td>\n",
              "      <td>1</td>\n",
              "      <td>-0.001264</td>\n",
              "      <td>8.55379</td>\n",
              "      <td>5466</td>\n",
              "      <td>-0.139504</td>\n",
              "      <td>5.94417</td>\n",
              "    </tr>\n",
              "    <tr>\n",
              "      <th>3</th>\n",
              "      <td>0</td>\n",
              "      <td>322.9430</td>\n",
              "      <td>4714.580</td>\n",
              "      <td>1</td>\n",
              "      <td>-0.038678</td>\n",
              "      <td>28.14610</td>\n",
              "      <td>5391</td>\n",
              "      <td>0.524576</td>\n",
              "      <td>4.67530</td>\n",
              "    </tr>\n",
              "    <tr>\n",
              "      <th>4</th>\n",
              "      <td>0</td>\n",
              "      <td>31.6075</td>\n",
              "      <td>1772.290</td>\n",
              "      <td>0</td>\n",
              "      <td>-0.015655</td>\n",
              "      <td>7.57583</td>\n",
              "      <td>4977</td>\n",
              "      <td>-0.769529</td>\n",
              "      <td>5.37405</td>\n",
              "    </tr>\n",
              "  </tbody>\n",
              "</table>\n",
              "</div>"
            ],
            "text/plain": [
              "   Debris    Aspect  dist_drain  ...  Elevation  TPI_Index  TWI_Index\n",
              "0       0  235.5390     424.264  ...       4396  -1.045380    9.48417\n",
              "1       0  148.5700    6207.100  ...       5846   0.064828    7.24776\n",
              "2       0  259.9920    1972.030  ...       5466  -0.139504    5.94417\n",
              "3       0  322.9430    4714.580  ...       5391   0.524576    4.67530\n",
              "4       0   31.6075    1772.290  ...       4977  -0.769529    5.37405\n",
              "\n",
              "[5 rows x 9 columns]"
            ]
          },
          "metadata": {
            "tags": []
          },
          "execution_count": 16
        }
      ]
    },
    {
      "cell_type": "code",
      "metadata": {
        "id": "NPpVGVVJ6s2W"
      },
      "source": [
        "def dataframe_to_dataset(dataframe, shuffle=False, batch_size=32):\n",
        "    dataframe = dataframe.copy()\n",
        "    labels = dataframe.pop('Debris')\n",
        "    ds = tf.data.Dataset.from_tensor_slices((dict(dataframe), labels))\n",
        "    if shuffle:\n",
        "        ds = ds.shuffle(buffer_size=len(dataframe))\n",
        "    ds = ds.batch(batch_size)\n",
        "    return ds"
      ],
      "execution_count": null,
      "outputs": []
    },
    {
      "cell_type": "code",
      "metadata": {
        "id": "4wYd0OUH7Hdv"
      },
      "source": [
        "# verification of dataset object\n",
        "batch_size = 2\n",
        "train_ds = dataframe_to_dataset(train_dataframe, batch_size=batch_size)\n",
        "[(train_features, label_batch)] = train_ds.take(1)"
      ],
      "execution_count": null,
      "outputs": []
    },
    {
      "cell_type": "code",
      "metadata": {
        "colab": {
          "base_uri": "https://localhost:8080/"
        },
        "id": "etfxwCuo7Vkn",
        "outputId": "54e4376b-ccd2-4b79-872f-5cef2a29d746"
      },
      "source": [
        "train_features"
      ],
      "execution_count": null,
      "outputs": [
        {
          "output_type": "execute_result",
          "data": {
            "text/plain": [
              "{'Aspect': <tf.Tensor: shape=(2,), dtype=float64, numpy=array([235.539, 148.57 ])>,\n",
              " 'Elevation': <tf.Tensor: shape=(2,), dtype=int64, numpy=array([4396, 5846])>,\n",
              " 'Fac': <tf.Tensor: shape=(2,), dtype=int64, numpy=array([246,   8])>,\n",
              " 'NDVI': <tf.Tensor: shape=(2,), dtype=float64, numpy=array([ 0.0142738 , -0.00842192])>,\n",
              " 'TPI_Index': <tf.Tensor: shape=(2,), dtype=float64, numpy=array([-1.04538  ,  0.0648285])>,\n",
              " 'TWI_Index': <tf.Tensor: shape=(2,), dtype=float64, numpy=array([9.48417, 7.24776])>,\n",
              " 'dist_drain': <tf.Tensor: shape=(2,), dtype=float64, numpy=array([ 424.264, 6207.1  ])>,\n",
              " 'slope_deg': <tf.Tensor: shape=(2,), dtype=float64, numpy=array([28.3222, 10.4149])>}"
            ]
          },
          "metadata": {
            "tags": []
          },
          "execution_count": 19
        }
      ]
    },
    {
      "cell_type": "code",
      "metadata": {
        "colab": {
          "base_uri": "https://localhost:8080/"
        },
        "id": "Tf_pWHex7WQt",
        "outputId": "f92c04f8-080e-46aa-a6f7-7afb6e2d3152"
      },
      "source": [
        "label_batch\n"
      ],
      "execution_count": null,
      "outputs": [
        {
          "output_type": "execute_result",
          "data": {
            "text/plain": [
              "<tf.Tensor: shape=(2,), dtype=int64, numpy=array([0, 0])>"
            ]
          },
          "metadata": {
            "tags": []
          },
          "execution_count": 20
        }
      ]
    },
    {
      "cell_type": "code",
      "metadata": {
        "id": "vkHvduc57k6Y"
      },
      "source": [
        "# verification of dataset object\n",
        "train_ds = dataframe_to_dataset(train_dataframe, batch_size=64)\n",
        "val_ds = dataframe_to_dataset(val_dataframe, batch_size=64)"
      ],
      "execution_count": null,
      "outputs": []
    },
    {
      "cell_type": "markdown",
      "metadata": {
        "id": "ejxdeiKL7xwa"
      },
      "source": [
        "Pre-processing¶\n",
        "Normalizing all numerical inputs\n"
      ]
    },
    {
      "cell_type": "code",
      "metadata": {
        "id": "Ed5nmjby70fm"
      },
      "source": [
        "# to mean 0 and std 1\n",
        "def encode_numerical_feature(feature, name, dataset):\n",
        "    normalizer = Normalization()\n",
        "    feature_ds = dataset.map(lambda x, y: x[name])\n",
        "    feature_ds = feature_ds.map(lambda x: tf.expand_dims(x, -1))\n",
        "    normalizer.adapt(feature_ds)\n",
        "    encoded_feature = normalizer(feature)\n",
        "    return encoded_feature"
      ],
      "execution_count": null,
      "outputs": []
    },
    {
      "cell_type": "markdown",
      "metadata": {
        "id": "F4fMaxWQN_ic"
      },
      "source": [
        ""
      ]
    },
    {
      "cell_type": "code",
      "metadata": {
        "colab": {
          "base_uri": "https://localhost:8080/",
          "height": 203
        },
        "id": "eYTw4VhZ77rI",
        "outputId": "08ec7314-f320-4e7a-fe3e-c743cb9d02c2"
      },
      "source": [
        "train_dataframe.head()\n"
      ],
      "execution_count": null,
      "outputs": [
        {
          "output_type": "execute_result",
          "data": {
            "text/html": [
              "<div>\n",
              "<style scoped>\n",
              "    .dataframe tbody tr th:only-of-type {\n",
              "        vertical-align: middle;\n",
              "    }\n",
              "\n",
              "    .dataframe tbody tr th {\n",
              "        vertical-align: top;\n",
              "    }\n",
              "\n",
              "    .dataframe thead th {\n",
              "        text-align: right;\n",
              "    }\n",
              "</style>\n",
              "<table border=\"1\" class=\"dataframe\">\n",
              "  <thead>\n",
              "    <tr style=\"text-align: right;\">\n",
              "      <th></th>\n",
              "      <th>Debris</th>\n",
              "      <th>Aspect</th>\n",
              "      <th>dist_drain</th>\n",
              "      <th>Fac</th>\n",
              "      <th>NDVI</th>\n",
              "      <th>slope_deg</th>\n",
              "      <th>Elevation</th>\n",
              "      <th>TPI_Index</th>\n",
              "      <th>TWI_Index</th>\n",
              "    </tr>\n",
              "  </thead>\n",
              "  <tbody>\n",
              "    <tr>\n",
              "      <th>0</th>\n",
              "      <td>0</td>\n",
              "      <td>235.5390</td>\n",
              "      <td>424.264</td>\n",
              "      <td>246</td>\n",
              "      <td>0.014274</td>\n",
              "      <td>28.32220</td>\n",
              "      <td>4396</td>\n",
              "      <td>-1.045380</td>\n",
              "      <td>9.48417</td>\n",
              "    </tr>\n",
              "    <tr>\n",
              "      <th>1</th>\n",
              "      <td>0</td>\n",
              "      <td>148.5700</td>\n",
              "      <td>6207.100</td>\n",
              "      <td>8</td>\n",
              "      <td>-0.008422</td>\n",
              "      <td>10.41490</td>\n",
              "      <td>5846</td>\n",
              "      <td>0.064828</td>\n",
              "      <td>7.24776</td>\n",
              "    </tr>\n",
              "    <tr>\n",
              "      <th>2</th>\n",
              "      <td>0</td>\n",
              "      <td>259.9920</td>\n",
              "      <td>1972.030</td>\n",
              "      <td>1</td>\n",
              "      <td>-0.001264</td>\n",
              "      <td>8.55379</td>\n",
              "      <td>5466</td>\n",
              "      <td>-0.139504</td>\n",
              "      <td>5.94417</td>\n",
              "    </tr>\n",
              "    <tr>\n",
              "      <th>3</th>\n",
              "      <td>0</td>\n",
              "      <td>322.9430</td>\n",
              "      <td>4714.580</td>\n",
              "      <td>1</td>\n",
              "      <td>-0.038678</td>\n",
              "      <td>28.14610</td>\n",
              "      <td>5391</td>\n",
              "      <td>0.524576</td>\n",
              "      <td>4.67530</td>\n",
              "    </tr>\n",
              "    <tr>\n",
              "      <th>4</th>\n",
              "      <td>0</td>\n",
              "      <td>31.6075</td>\n",
              "      <td>1772.290</td>\n",
              "      <td>0</td>\n",
              "      <td>-0.015655</td>\n",
              "      <td>7.57583</td>\n",
              "      <td>4977</td>\n",
              "      <td>-0.769529</td>\n",
              "      <td>5.37405</td>\n",
              "    </tr>\n",
              "  </tbody>\n",
              "</table>\n",
              "</div>"
            ],
            "text/plain": [
              "   Debris    Aspect  dist_drain  ...  Elevation  TPI_Index  TWI_Index\n",
              "0       0  235.5390     424.264  ...       4396  -1.045380    9.48417\n",
              "1       0  148.5700    6207.100  ...       5846   0.064828    7.24776\n",
              "2       0  259.9920    1972.030  ...       5466  -0.139504    5.94417\n",
              "3       0  322.9430    4714.580  ...       5391   0.524576    4.67530\n",
              "4       0   31.6075    1772.290  ...       4977  -0.769529    5.37405\n",
              "\n",
              "[5 rows x 9 columns]"
            ]
          },
          "metadata": {
            "tags": []
          },
          "execution_count": 23
        }
      ]
    },
    {
      "cell_type": "code",
      "metadata": {
        "colab": {
          "base_uri": "https://localhost:8080/"
        },
        "id": "CnJR3hdU8F9K",
        "outputId": "277c777a-3053-4310-ce01-7696d0c01199"
      },
      "source": [
        "train_dataframe.columns"
      ],
      "execution_count": null,
      "outputs": [
        {
          "output_type": "execute_result",
          "data": {
            "text/plain": [
              "Index(['Debris', 'Aspect', 'dist_drain', 'Fac', 'NDVI', 'slope_deg',\n",
              "       'Elevation', 'TPI_Index', 'TWI_Index'],\n",
              "      dtype='object')"
            ]
          },
          "metadata": {
            "tags": []
          },
          "execution_count": 24
        }
      ]
    },
    {
      "cell_type": "code",
      "metadata": {
        "id": "LC0CowXq8HDB"
      },
      "source": [
        "Aspect = keras.Input(shape=(1,), name=\"Aspect\")\n",
        "dist_drain = keras.Input(shape=(1,), name=\"dist_drain\")\n",
        "Fac = keras.Input(shape=(1,), name=\"Fac\")\n",
        "NDVI = keras.Input(shape=(1,), name=\"NDVI\")\n",
        "slope_deg = keras.Input(shape=(1,), name=\"slope_deg\")\n",
        "Elevation = keras.Input(shape=(1,), name=\"Elevation\")\n",
        "TPI_Index = keras.Input(shape=(1,), name=\"TPI_Index\")\n",
        "TWI_Index = keras.Input(shape=(1,), name=\"TWI_Index\")\n",
        "\n",
        "all_inputs = [Aspect, dist_drain, Fac, NDVI, slope_deg, Elevation, TPI_Index, TWI_Index]"
      ],
      "execution_count": null,
      "outputs": []
    },
    {
      "cell_type": "code",
      "metadata": {
        "id": "XTnxLijI8XjF"
      },
      "source": [
        "Aspect_encoded = encode_numerical_feature(Aspect, \"Aspect\", train_ds)\n",
        "dist_drain_encoded = encode_numerical_feature(dist_drain, \"dist_drain\", train_ds)\n",
        "Fac_encoded = encode_numerical_feature(Fac, \"Fac\", train_ds)\n",
        "NDVI_encoded = encode_numerical_feature(NDVI, \"NDVI\", train_ds)\n",
        "slope_deg_encoded = encode_numerical_feature(slope_deg, \"slope_deg\", train_ds)\n",
        "Elevation_encoded = encode_numerical_feature(Elevation, \"Elevation\", train_ds)\n",
        "TPI_Index_encoded = encode_numerical_feature(TPI_Index, \"TPI_Index\", train_ds)\n",
        "TWI_Index_encoded = encode_numerical_feature(TWI_Index, \"TWI_Index\", train_ds)\n",
        "\n",
        "all_features = layers.concatenate([Aspect_encoded, dist_drain_encoded, Fac_encoded, \n",
        "                                    NDVI_encoded, slope_deg_encoded, Elevation_encoded,\n",
        "                                    TPI_Index_encoded, TWI_Index_encoded])"
      ],
      "execution_count": null,
      "outputs": []
    },
    {
      "cell_type": "markdown",
      "metadata": {
        "id": "3Ubs4KSA8fHt"
      },
      "source": [
        "**Model training**"
      ]
    },
    {
      "cell_type": "markdown",
      "metadata": {
        "id": "qmwtL4cf8jZf"
      },
      "source": [
        ""
      ]
    },
    {
      "cell_type": "code",
      "metadata": {
        "id": "Fb9znA148pWj"
      },
      "source": [
        "x = layers.Dense(32, activation=\"relu\")(all_features)\n",
        "x = layers.Dense(32, activation=\"relu\")(x)\n",
        "x = layers.Dense(32, activation=\"relu\")(x)\n",
        "x = tf.keras.layers.Dropout(0.1)(x)\n",
        "output = layers.Dense(1, activation=\"sigmoid\")(x)\n",
        "model = keras.Model(all_inputs, output)\n",
        "'''\n",
        "model.compile(\"adam\", \"binary_crossentropy\", \n",
        "              metrics=[\"accuracy\",\n",
        "                       tf.keras.metrics.AUC(name='auc'),\n",
        "                       keras.metrics.TruePositives(name='tp'),\n",
        "                       keras.metrics.FalsePositives(name='fp'),\n",
        "                       keras.metrics.TrueNegatives(name='tn'),\n",
        "                       keras.metrics.FalseNegatives(name='fn')\n",
        "                      ])\n",
        "                      '''\n",
        "model.compile(\"adam\", \"binary_crossentropy\", \n",
        "              metrics=[\"accuracy\",\n",
        "                       tf.keras.metrics.AUC(name='auc')\n",
        "                      ])"
      ],
      "execution_count": null,
      "outputs": []
    },
    {
      "cell_type": "code",
      "metadata": {
        "colab": {
          "base_uri": "https://localhost:8080/"
        },
        "id": "GrPajEpG8zMP",
        "outputId": "496c0ec9-863f-449c-a7f2-3bfc5e6182a8"
      },
      "source": [
        "model.summary()\n",
        "\n"
      ],
      "execution_count": null,
      "outputs": [
        {
          "output_type": "stream",
          "text": [
            "Model: \"model\"\n",
            "__________________________________________________________________________________________________\n",
            "Layer (type)                    Output Shape         Param #     Connected to                     \n",
            "==================================================================================================\n",
            "Aspect (InputLayer)             [(None, 1)]          0                                            \n",
            "__________________________________________________________________________________________________\n",
            "dist_drain (InputLayer)         [(None, 1)]          0                                            \n",
            "__________________________________________________________________________________________________\n",
            "Fac (InputLayer)                [(None, 1)]          0                                            \n",
            "__________________________________________________________________________________________________\n",
            "NDVI (InputLayer)               [(None, 1)]          0                                            \n",
            "__________________________________________________________________________________________________\n",
            "slope_deg (InputLayer)          [(None, 1)]          0                                            \n",
            "__________________________________________________________________________________________________\n",
            "Elevation (InputLayer)          [(None, 1)]          0                                            \n",
            "__________________________________________________________________________________________________\n",
            "TPI_Index (InputLayer)          [(None, 1)]          0                                            \n",
            "__________________________________________________________________________________________________\n",
            "TWI_Index (InputLayer)          [(None, 1)]          0                                            \n",
            "__________________________________________________________________________________________________\n",
            "normalization (Normalization)   (None, 1)            3           Aspect[0][0]                     \n",
            "__________________________________________________________________________________________________\n",
            "normalization_1 (Normalization) (None, 1)            3           dist_drain[0][0]                 \n",
            "__________________________________________________________________________________________________\n",
            "normalization_2 (Normalization) (None, 1)            3           Fac[0][0]                        \n",
            "__________________________________________________________________________________________________\n",
            "normalization_3 (Normalization) (None, 1)            3           NDVI[0][0]                       \n",
            "__________________________________________________________________________________________________\n",
            "normalization_4 (Normalization) (None, 1)            3           slope_deg[0][0]                  \n",
            "__________________________________________________________________________________________________\n",
            "normalization_5 (Normalization) (None, 1)            3           Elevation[0][0]                  \n",
            "__________________________________________________________________________________________________\n",
            "normalization_6 (Normalization) (None, 1)            3           TPI_Index[0][0]                  \n",
            "__________________________________________________________________________________________________\n",
            "normalization_7 (Normalization) (None, 1)            3           TWI_Index[0][0]                  \n",
            "__________________________________________________________________________________________________\n",
            "concatenate (Concatenate)       (None, 8)            0           normalization[0][0]              \n",
            "                                                                 normalization_1[0][0]            \n",
            "                                                                 normalization_2[0][0]            \n",
            "                                                                 normalization_3[0][0]            \n",
            "                                                                 normalization_4[0][0]            \n",
            "                                                                 normalization_5[0][0]            \n",
            "                                                                 normalization_6[0][0]            \n",
            "                                                                 normalization_7[0][0]            \n",
            "__________________________________________________________________________________________________\n",
            "dense (Dense)                   (None, 32)           288         concatenate[0][0]                \n",
            "__________________________________________________________________________________________________\n",
            "dense_1 (Dense)                 (None, 32)           1056        dense[0][0]                      \n",
            "__________________________________________________________________________________________________\n",
            "dense_2 (Dense)                 (None, 32)           1056        dense_1[0][0]                    \n",
            "__________________________________________________________________________________________________\n",
            "dropout (Dropout)               (None, 32)           0           dense_2[0][0]                    \n",
            "__________________________________________________________________________________________________\n",
            "dense_3 (Dense)                 (None, 1)            33          dropout[0][0]                    \n",
            "==================================================================================================\n",
            "Total params: 2,457\n",
            "Trainable params: 2,433\n",
            "Non-trainable params: 24\n",
            "__________________________________________________________________________________________________\n"
          ],
          "name": "stdout"
        }
      ]
    },
    {
      "cell_type": "code",
      "metadata": {
        "colab": {
          "base_uri": "https://localhost:8080/"
        },
        "id": "ctt4KjOf80N-",
        "outputId": "43a851d9-d821-4838-8e19-ca70d2df0564"
      },
      "source": [
        "history = model.fit(train_ds, epochs=40, validation_data=val_ds)\n"
      ],
      "execution_count": null,
      "outputs": [
        {
          "output_type": "stream",
          "text": [
            "Epoch 1/40\n",
            "13/13 [==============================] - 2s 35ms/step - loss: 0.5882 - accuracy: 0.8827 - auc: 0.2507 - val_loss: 0.4481 - val_accuracy: 0.9189 - val_auc: 0.4535\n",
            "Epoch 2/40\n",
            "13/13 [==============================] - 0s 6ms/step - loss: 0.4636 - accuracy: 0.8943 - auc: 0.4576 - val_loss: 0.3792 - val_accuracy: 0.9189 - val_auc: 0.5839\n",
            "Epoch 3/40\n",
            "13/13 [==============================] - 0s 5ms/step - loss: 0.4009 - accuracy: 0.8943 - auc: 0.5973 - val_loss: 0.3319 - val_accuracy: 0.9189 - val_auc: 0.6792\n",
            "Epoch 4/40\n",
            "13/13 [==============================] - 0s 5ms/step - loss: 0.3592 - accuracy: 0.8943 - auc: 0.6609 - val_loss: 0.3005 - val_accuracy: 0.9189 - val_auc: 0.7394\n",
            "Epoch 5/40\n",
            "13/13 [==============================] - 0s 5ms/step - loss: 0.3319 - accuracy: 0.8943 - auc: 0.7221 - val_loss: 0.2806 - val_accuracy: 0.9189 - val_auc: 0.7767\n",
            "Epoch 6/40\n",
            "13/13 [==============================] - 0s 5ms/step - loss: 0.3097 - accuracy: 0.8943 - auc: 0.7677 - val_loss: 0.2662 - val_accuracy: 0.9189 - val_auc: 0.7969\n",
            "Epoch 7/40\n",
            "13/13 [==============================] - 0s 6ms/step - loss: 0.2941 - accuracy: 0.8943 - auc: 0.7991 - val_loss: 0.2570 - val_accuracy: 0.9189 - val_auc: 0.8099\n",
            "Epoch 8/40\n",
            "13/13 [==============================] - 0s 6ms/step - loss: 0.2841 - accuracy: 0.8969 - auc: 0.8211 - val_loss: 0.2511 - val_accuracy: 0.9189 - val_auc: 0.8189\n",
            "Epoch 9/40\n",
            "13/13 [==============================] - 0s 5ms/step - loss: 0.2757 - accuracy: 0.8943 - auc: 0.8384 - val_loss: 0.2465 - val_accuracy: 0.9189 - val_auc: 0.8260\n",
            "Epoch 10/40\n",
            "13/13 [==============================] - 0s 5ms/step - loss: 0.2686 - accuracy: 0.8982 - auc: 0.8482 - val_loss: 0.2427 - val_accuracy: 0.9159 - val_auc: 0.8264\n",
            "Epoch 11/40\n",
            "13/13 [==============================] - 0s 6ms/step - loss: 0.2658 - accuracy: 0.9008 - auc: 0.8489 - val_loss: 0.2395 - val_accuracy: 0.9219 - val_auc: 0.8329\n",
            "Epoch 12/40\n",
            "13/13 [==============================] - 0s 6ms/step - loss: 0.2615 - accuracy: 0.9046 - auc: 0.8562 - val_loss: 0.2370 - val_accuracy: 0.9219 - val_auc: 0.8371\n",
            "Epoch 13/40\n",
            "13/13 [==============================] - 0s 5ms/step - loss: 0.2567 - accuracy: 0.9111 - auc: 0.8628 - val_loss: 0.2352 - val_accuracy: 0.9249 - val_auc: 0.8417\n",
            "Epoch 14/40\n",
            "13/13 [==============================] - 0s 6ms/step - loss: 0.2528 - accuracy: 0.9188 - auc: 0.8680 - val_loss: 0.2328 - val_accuracy: 0.9309 - val_auc: 0.8414\n",
            "Epoch 15/40\n",
            "13/13 [==============================] - 0s 5ms/step - loss: 0.2539 - accuracy: 0.9072 - auc: 0.8637 - val_loss: 0.2310 - val_accuracy: 0.9279 - val_auc: 0.8432\n",
            "Epoch 16/40\n",
            "13/13 [==============================] - 0s 5ms/step - loss: 0.2533 - accuracy: 0.9098 - auc: 0.8674 - val_loss: 0.2296 - val_accuracy: 0.9309 - val_auc: 0.8425\n",
            "Epoch 17/40\n",
            "13/13 [==============================] - 0s 5ms/step - loss: 0.2471 - accuracy: 0.9124 - auc: 0.8761 - val_loss: 0.2283 - val_accuracy: 0.9339 - val_auc: 0.8450\n",
            "Epoch 18/40\n",
            "13/13 [==============================] - 0s 5ms/step - loss: 0.2475 - accuracy: 0.9098 - auc: 0.8726 - val_loss: 0.2275 - val_accuracy: 0.9339 - val_auc: 0.8477\n",
            "Epoch 19/40\n",
            "13/13 [==============================] - 0s 6ms/step - loss: 0.2443 - accuracy: 0.9137 - auc: 0.8787 - val_loss: 0.2262 - val_accuracy: 0.9339 - val_auc: 0.8508\n",
            "Epoch 20/40\n",
            "13/13 [==============================] - 0s 5ms/step - loss: 0.2423 - accuracy: 0.9085 - auc: 0.8795 - val_loss: 0.2247 - val_accuracy: 0.9309 - val_auc: 0.8542\n",
            "Epoch 21/40\n",
            "13/13 [==============================] - 0s 6ms/step - loss: 0.2396 - accuracy: 0.9085 - auc: 0.8807 - val_loss: 0.2230 - val_accuracy: 0.9309 - val_auc: 0.8548\n",
            "Epoch 22/40\n",
            "13/13 [==============================] - 0s 5ms/step - loss: 0.2386 - accuracy: 0.9085 - auc: 0.8847 - val_loss: 0.2212 - val_accuracy: 0.9339 - val_auc: 0.8581\n",
            "Epoch 23/40\n",
            "13/13 [==============================] - 0s 5ms/step - loss: 0.2354 - accuracy: 0.9085 - auc: 0.8877 - val_loss: 0.2196 - val_accuracy: 0.9369 - val_auc: 0.8612\n",
            "Epoch 24/40\n",
            "13/13 [==============================] - 0s 5ms/step - loss: 0.2366 - accuracy: 0.9072 - auc: 0.8852 - val_loss: 0.2183 - val_accuracy: 0.9399 - val_auc: 0.8558\n",
            "Epoch 25/40\n",
            "13/13 [==============================] - 0s 5ms/step - loss: 0.2334 - accuracy: 0.9046 - auc: 0.8878 - val_loss: 0.2176 - val_accuracy: 0.9399 - val_auc: 0.8565\n",
            "Epoch 26/40\n",
            "13/13 [==============================] - 0s 6ms/step - loss: 0.2344 - accuracy: 0.9098 - auc: 0.8861 - val_loss: 0.2163 - val_accuracy: 0.9399 - val_auc: 0.8577\n",
            "Epoch 27/40\n",
            "13/13 [==============================] - 0s 5ms/step - loss: 0.2294 - accuracy: 0.9085 - auc: 0.8931 - val_loss: 0.2161 - val_accuracy: 0.9399 - val_auc: 0.8553\n",
            "Epoch 28/40\n",
            "13/13 [==============================] - 0s 5ms/step - loss: 0.2282 - accuracy: 0.9124 - auc: 0.8925 - val_loss: 0.2150 - val_accuracy: 0.9429 - val_auc: 0.8558\n",
            "Epoch 29/40\n",
            "13/13 [==============================] - 0s 5ms/step - loss: 0.2284 - accuracy: 0.9072 - auc: 0.8931 - val_loss: 0.2138 - val_accuracy: 0.9429 - val_auc: 0.8569\n",
            "Epoch 30/40\n",
            "13/13 [==============================] - 0s 6ms/step - loss: 0.2297 - accuracy: 0.9124 - auc: 0.8901 - val_loss: 0.2125 - val_accuracy: 0.9429 - val_auc: 0.8578\n",
            "Epoch 31/40\n",
            "13/13 [==============================] - 0s 5ms/step - loss: 0.2249 - accuracy: 0.9137 - auc: 0.8947 - val_loss: 0.2119 - val_accuracy: 0.9459 - val_auc: 0.8582\n",
            "Epoch 32/40\n",
            "13/13 [==============================] - 0s 4ms/step - loss: 0.2212 - accuracy: 0.9137 - auc: 0.8991 - val_loss: 0.2103 - val_accuracy: 0.9459 - val_auc: 0.8595\n",
            "Epoch 33/40\n",
            "13/13 [==============================] - 0s 5ms/step - loss: 0.2245 - accuracy: 0.9085 - auc: 0.8962 - val_loss: 0.2104 - val_accuracy: 0.9459 - val_auc: 0.8601\n",
            "Epoch 34/40\n",
            "13/13 [==============================] - 0s 6ms/step - loss: 0.2225 - accuracy: 0.9124 - auc: 0.8969 - val_loss: 0.2093 - val_accuracy: 0.9459 - val_auc: 0.8610\n",
            "Epoch 35/40\n",
            "13/13 [==============================] - 0s 7ms/step - loss: 0.2194 - accuracy: 0.9137 - auc: 0.8985 - val_loss: 0.2087 - val_accuracy: 0.9459 - val_auc: 0.8612\n",
            "Epoch 36/40\n",
            "13/13 [==============================] - 0s 5ms/step - loss: 0.2203 - accuracy: 0.9137 - auc: 0.9006 - val_loss: 0.2087 - val_accuracy: 0.9459 - val_auc: 0.8620\n",
            "Epoch 37/40\n",
            "13/13 [==============================] - 0s 5ms/step - loss: 0.2219 - accuracy: 0.9124 - auc: 0.8966 - val_loss: 0.2075 - val_accuracy: 0.9429 - val_auc: 0.8627\n",
            "Epoch 38/40\n",
            "13/13 [==============================] - 0s 5ms/step - loss: 0.2200 - accuracy: 0.9137 - auc: 0.8997 - val_loss: 0.2071 - val_accuracy: 0.9429 - val_auc: 0.8626\n",
            "Epoch 39/40\n",
            "13/13 [==============================] - 0s 6ms/step - loss: 0.2181 - accuracy: 0.9098 - auc: 0.9002 - val_loss: 0.2069 - val_accuracy: 0.9399 - val_auc: 0.8633\n",
            "Epoch 40/40\n",
            "13/13 [==============================] - 0s 5ms/step - loss: 0.2136 - accuracy: 0.9175 - auc: 0.9068 - val_loss: 0.2065 - val_accuracy: 0.9369 - val_auc: 0.8644\n"
          ],
          "name": "stdout"
        }
      ]
    },
    {
      "cell_type": "code",
      "metadata": {
        "colab": {
          "base_uri": "https://localhost:8080/"
        },
        "id": "E2NWHPA1A6pY",
        "outputId": "fe8f2ea2-2092-42b9-91e6-6a6543016b9d"
      },
      "source": [
        "history.history.keys()\n"
      ],
      "execution_count": null,
      "outputs": [
        {
          "output_type": "execute_result",
          "data": {
            "text/plain": [
              "dict_keys(['loss', 'accuracy', 'auc', 'val_loss', 'val_accuracy', 'val_auc'])"
            ]
          },
          "metadata": {
            "tags": []
          },
          "execution_count": 30
        }
      ]
    },
    {
      "cell_type": "code",
      "metadata": {
        "id": "LTANgBIhA_YJ"
      },
      "source": [
        "def plot_metrics(history):\n",
        "    metrics = ['loss', 'accuracy']\n",
        "    for n, metric in enumerate(metrics):\n",
        "        name = metric.replace(\"_\",\" \").capitalize()\n",
        "        plt.subplot(3,1,n+1)\n",
        "        plt.plot(history.epoch, history.history[metric], label='Train')\n",
        "        plt.plot(history.epoch, history.history['val_'+metric],\n",
        "                 linestyle=\"--\", label='Val')\n",
        "        plt.xlabel('Epoch')\n",
        "        plt.ylabel(name)\n",
        "        \n",
        "        plt.legend()"
      ],
      "execution_count": null,
      "outputs": []
    },
    {
      "cell_type": "code",
      "metadata": {
        "colab": {
          "base_uri": "https://localhost:8080/",
          "height": 485
        },
        "id": "m6ZVrCYvBEAC",
        "outputId": "c9739cc0-6882-4b1f-9b61-c00072e7d9fb"
      },
      "source": [
        "plot_metrics(history)\n"
      ],
      "execution_count": null,
      "outputs": [
        {
          "output_type": "display_data",
          "data": {
            "image/png": "[encoded data removed]",
            "text/plain": [
              "<Figure size 576x864 with 2 Axes>"
            ]
          },
          "metadata": {
            "tags": [],
            "needs_background": "light"
          }
        }
      ]
    },
    {
      "cell_type": "code",
      "metadata": {
        "colab": {
          "base_uri": "https://localhost:8080/"
        },
        "id": "Mu3DT-X8BZj2",
        "outputId": "f23be6a5-27a4-48fa-b1f1-b02b4256cea8"
      },
      "source": [
        "print(model.evaluate(val_ds))\n"
      ],
      "execution_count": null,
      "outputs": [
        {
          "output_type": "stream",
          "text": [
            "6/6 [==============================] - 0s 3ms/step - loss: 0.2065 - accuracy: 0.9369 - auc: 0.8644\n",
            "[0.2065228372812271, 0.9369369149208069, 0.8643791079521179]\n"
          ],
          "name": "stdout"
        }
      ]
    },
    {
      "cell_type": "markdown",
      "metadata": {
        "id": "KJx5nK1ZBy9w"
      },
      "source": [
        "**Save model weights**\n"
      ]
    },
    {
      "cell_type": "code",
      "metadata": {
        "colab": {
          "base_uri": "https://localhost:8080/"
        },
        "id": "AHa6wdigB3iy",
        "outputId": "76b6ae9a-19ac-40a4-cef9-11bf4856862a"
      },
      "source": [
        "model.save(\"weights\")\n"
      ],
      "execution_count": null,
      "outputs": [
        {
          "output_type": "stream",
          "text": [
            "WARNING:absl:Function `_wrapped_model` contains input name(s) Aspect, Fac, NDVI, Elevation, TPI_Index, TWI_Index with unsupported characters which will be renamed to aspect, fac, ndvi, elevation, tpi_index, twi_index in the SavedModel.\n"
          ],
          "name": "stderr"
        },
        {
          "output_type": "stream",
          "text": [
            "INFO:tensorflow:Assets written to: weights/assets\n"
          ],
          "name": "stdout"
        },
        {
          "output_type": "stream",
          "text": [
            "INFO:tensorflow:Assets written to: weights/assets\n"
          ],
          "name": "stderr"
        }
      ]
    },
    {
      "cell_type": "code",
      "metadata": {
        "id": "DCg3orYFCEvo"
      },
      "source": [
        "test_ds = dataframe_to_dataset(val_dataframe, batch_size=333) # shuffle is False\n"
      ],
      "execution_count": null,
      "outputs": []
    },
    {
      "cell_type": "code",
      "metadata": {
        "colab": {
          "base_uri": "https://localhost:8080/"
        },
        "id": "6heXL2NjCGv_",
        "outputId": "9cecbd2a-8723-41d9-acd0-5815601589d4"
      },
      "source": [
        "test_predictions = model.predict(test_ds).ravel()\n",
        "test_predictions.shape"
      ],
      "execution_count": null,
      "outputs": [
        {
          "output_type": "execute_result",
          "data": {
            "text/plain": [
              "(333,)"
            ]
          },
          "metadata": {
            "tags": []
          },
          "execution_count": 36
        }
      ]
    },
    {
      "cell_type": "code",
      "metadata": {
        "colab": {
          "base_uri": "https://localhost:8080/"
        },
        "id": "5s8VmkJ8CHVn",
        "outputId": "be0fae36-bf52-4dbd-bf2d-d8336e72fb99"
      },
      "source": [
        "test_labels = val_dataframe['Debris']\n",
        "test_labels.shape"
      ],
      "execution_count": null,
      "outputs": [
        {
          "output_type": "execute_result",
          "data": {
            "text/plain": [
              "(333,)"
            ]
          },
          "metadata": {
            "tags": []
          },
          "execution_count": 37
        }
      ]
    },
    {
      "cell_type": "code",
      "metadata": {
        "id": "4DxU8KYxCKJ2"
      },
      "source": [
        "fpr, tpr, thresholds = sklearn.metrics.roc_curve(test_labels, test_predictions)"
      ],
      "execution_count": null,
      "outputs": []
    },
    {
      "cell_type": "code",
      "metadata": {
        "colab": {
          "base_uri": "https://localhost:8080/"
        },
        "id": "fsTn7KfmCMDm",
        "outputId": "907ecf76-9e58-4448-e38c-b5f2eeebae5d"
      },
      "source": [
        "auc_score = sklearn.metrics.auc(fpr,tpr)\n",
        "auc_score"
      ],
      "execution_count": null,
      "outputs": [
        {
          "output_type": "execute_result",
          "data": {
            "text/plain": [
              "0.8672234325829097"
            ]
          },
          "metadata": {
            "tags": []
          },
          "execution_count": 39
        }
      ]
    },
    {
      "cell_type": "code",
      "metadata": {
        "colab": {
          "base_uri": "https://localhost:8080/",
          "height": 508
        },
        "id": "8srVDoq_CNxO",
        "outputId": "ec956892-a88b-47c6-c311-8a5c3dc1e35a"
      },
      "source": [
        "plt.plot(100*fpr, 100*tpr, linewidth=2)\n",
        "plt.xlabel('False positives [%]')\n",
        "plt.ylabel('True positives [%]')\n",
        "plt.grid(True)\n",
        "ax = plt.gca()\n",
        "ax.set_aspect('equal')"
      ],
      "execution_count": null,
      "outputs": [
        {
          "output_type": "display_data",
          "data": {
            "image/png": "[encoded data removed]",
            "text/plain": [
              "<Figure size 576x864 with 1 Axes>"
            ]
          },
          "metadata": {
            "tags": [],
            "needs_background": "light"
          }
        }
      ]
    },
    {
      "cell_type": "code",
      "metadata": {
        "id": "gU_RcqIjCPvu"
      },
      "source": [
        ""
      ],
      "execution_count": null,
      "outputs": []
    },
    {
      "cell_type": "markdown",
      "metadata": {
        "id": "Fu-kmcNgCSso"
      },
      "source": [
        "Write the output file"
      ]
    },
    {
      "cell_type": "code",
      "metadata": {
        "colab": {
          "base_uri": "https://localhost:8080/",
          "height": 203
        },
        "id": "zm_QtEL9CTkF",
        "outputId": "81e0e414-c473-4c09-f8be-751c687567c1"
      },
      "source": [
        "val_dataframe.head()"
      ],
      "execution_count": null,
      "outputs": [
        {
          "output_type": "execute_result",
          "data": {
            "text/html": [
              "<div>\n",
              "<style scoped>\n",
              "    .dataframe tbody tr th:only-of-type {\n",
              "        vertical-align: middle;\n",
              "    }\n",
              "\n",
              "    .dataframe tbody tr th {\n",
              "        vertical-align: top;\n",
              "    }\n",
              "\n",
              "    .dataframe thead th {\n",
              "        text-align: right;\n",
              "    }\n",
              "</style>\n",
              "<table border=\"1\" class=\"dataframe\">\n",
              "  <thead>\n",
              "    <tr style=\"text-align: right;\">\n",
              "      <th></th>\n",
              "      <th>Debris</th>\n",
              "      <th>Aspect</th>\n",
              "      <th>dist_drain</th>\n",
              "      <th>Fac</th>\n",
              "      <th>NDVI</th>\n",
              "      <th>slope_deg</th>\n",
              "      <th>Elevation</th>\n",
              "      <th>TPI_Index</th>\n",
              "      <th>TWI_Index</th>\n",
              "    </tr>\n",
              "  </thead>\n",
              "  <tbody>\n",
              "    <tr>\n",
              "      <th>192</th>\n",
              "      <td>0</td>\n",
              "      <td>66.3179</td>\n",
              "      <td>1380.3300</td>\n",
              "      <td>0</td>\n",
              "      <td>-0.016411</td>\n",
              "      <td>28.4716</td>\n",
              "      <td>5042</td>\n",
              "      <td>-0.616279</td>\n",
              "      <td>3.96855</td>\n",
              "    </tr>\n",
              "    <tr>\n",
              "      <th>474</th>\n",
              "      <td>0</td>\n",
              "      <td>60.1240</td>\n",
              "      <td>3167.2400</td>\n",
              "      <td>0</td>\n",
              "      <td>-0.002039</td>\n",
              "      <td>25.2803</td>\n",
              "      <td>3831</td>\n",
              "      <td>0.051206</td>\n",
              "      <td>4.10683</td>\n",
              "    </tr>\n",
              "    <tr>\n",
              "      <th>205</th>\n",
              "      <td>0</td>\n",
              "      <td>49.7636</td>\n",
              "      <td>4331.0300</td>\n",
              "      <td>3</td>\n",
              "      <td>-0.011887</td>\n",
              "      <td>20.3521</td>\n",
              "      <td>5564</td>\n",
              "      <td>-0.285942</td>\n",
              "      <td>5.73463</td>\n",
              "    </tr>\n",
              "    <tr>\n",
              "      <th>951</th>\n",
              "      <td>0</td>\n",
              "      <td>36.8699</td>\n",
              "      <td>2773.3400</td>\n",
              "      <td>2</td>\n",
              "      <td>-0.016797</td>\n",
              "      <td>31.3796</td>\n",
              "      <td>5861</td>\n",
              "      <td>0.984324</td>\n",
              "      <td>4.94969</td>\n",
              "    </tr>\n",
              "    <tr>\n",
              "      <th>1059</th>\n",
              "      <td>1</td>\n",
              "      <td>138.1480</td>\n",
              "      <td>84.8528</td>\n",
              "      <td>122</td>\n",
              "      <td>0.193095</td>\n",
              "      <td>50.9814</td>\n",
              "      <td>2211</td>\n",
              "      <td>-2.404190</td>\n",
              "      <td>7.95850</td>\n",
              "    </tr>\n",
              "  </tbody>\n",
              "</table>\n",
              "</div>"
            ],
            "text/plain": [
              "      Debris    Aspect  dist_drain  ...  Elevation  TPI_Index  TWI_Index\n",
              "192        0   66.3179   1380.3300  ...       5042  -0.616279    3.96855\n",
              "474        0   60.1240   3167.2400  ...       3831   0.051206    4.10683\n",
              "205        0   49.7636   4331.0300  ...       5564  -0.285942    5.73463\n",
              "951        0   36.8699   2773.3400  ...       5861   0.984324    4.94969\n",
              "1059       1  138.1480     84.8528  ...       2211  -2.404190    7.95850\n",
              "\n",
              "[5 rows x 9 columns]"
            ]
          },
          "metadata": {
            "tags": []
          },
          "execution_count": 41
        }
      ]
    },
    {
      "cell_type": "code",
      "metadata": {
        "id": "FBODS7VLCVPe",
        "colab": {
          "base_uri": "https://localhost:8080/",
          "height": 162
        },
        "outputId": "2acc3e05-1652-424a-e83c-02bec516fcf6"
      },
      "source": [
        "val_dataframe['Predictions'] = test_predictions"
      ],
      "execution_count": null,
      "outputs": [
        {
          "output_type": "error",
          "ename": "NameError",
          "evalue": "ignored",
          "traceback": [
            "\u001b[0;31m---------------------------------------------------------------------------\u001b[0m",
            "\u001b[0;31mNameError\u001b[0m                                 Traceback (most recent call last)",
            "\u001b[0;32m<ipython-input-2-9e7c5e98f618>\u001b[0m in \u001b[0;36m<module>\u001b[0;34m()\u001b[0m\n\u001b[0;32m----> 1\u001b[0;31m \u001b[0mval_dataframe\u001b[0m\u001b[0;34m[\u001b[0m\u001b[0;34m'Predictions'\u001b[0m\u001b[0;34m]\u001b[0m \u001b[0;34m=\u001b[0m \u001b[0mtest_predictions\u001b[0m\u001b[0;34m\u001b[0m\u001b[0;34m\u001b[0m\u001b[0m\n\u001b[0m",
            "\u001b[0;31mNameError\u001b[0m: name 'test_predictions' is not defined"
          ]
        }
      ]
    },
    {
      "cell_type": "code",
      "metadata": {
        "colab": {
          "base_uri": "https://localhost:8080/",
          "height": 203
        },
        "id": "h9No4pmeCXCt",
        "outputId": "7388c029-614c-44f4-895a-672a2c0f08f2"
      },
      "source": [
        "val_dataframe.head()"
      ],
      "execution_count": null,
      "outputs": [
        {
          "output_type": "execute_result",
          "data": {
            "text/html": [
              "<div>\n",
              "<style scoped>\n",
              "    .dataframe tbody tr th:only-of-type {\n",
              "        vertical-align: middle;\n",
              "    }\n",
              "\n",
              "    .dataframe tbody tr th {\n",
              "        vertical-align: top;\n",
              "    }\n",
              "\n",
              "    .dataframe thead th {\n",
              "        text-align: right;\n",
              "    }\n",
              "</style>\n",
              "<table border=\"1\" class=\"dataframe\">\n",
              "  <thead>\n",
              "    <tr style=\"text-align: right;\">\n",
              "      <th></th>\n",
              "      <th>Debris</th>\n",
              "      <th>Aspect</th>\n",
              "      <th>dist_drain</th>\n",
              "      <th>Fac</th>\n",
              "      <th>NDVI</th>\n",
              "      <th>slope_deg</th>\n",
              "      <th>Elevation</th>\n",
              "      <th>TPI_Index</th>\n",
              "      <th>TWI_Index</th>\n",
              "      <th>Predictions</th>\n",
              "    </tr>\n",
              "  </thead>\n",
              "  <tbody>\n",
              "    <tr>\n",
              "      <th>192</th>\n",
              "      <td>0</td>\n",
              "      <td>66.3179</td>\n",
              "      <td>1380.3300</td>\n",
              "      <td>0</td>\n",
              "      <td>-0.016411</td>\n",
              "      <td>28.4716</td>\n",
              "      <td>5042</td>\n",
              "      <td>-0.616279</td>\n",
              "      <td>3.96855</td>\n",
              "      <td>0.097050</td>\n",
              "    </tr>\n",
              "    <tr>\n",
              "      <th>474</th>\n",
              "      <td>0</td>\n",
              "      <td>60.1240</td>\n",
              "      <td>3167.2400</td>\n",
              "      <td>0</td>\n",
              "      <td>-0.002039</td>\n",
              "      <td>25.2803</td>\n",
              "      <td>3831</td>\n",
              "      <td>0.051206</td>\n",
              "      <td>4.10683</td>\n",
              "      <td>0.041140</td>\n",
              "    </tr>\n",
              "    <tr>\n",
              "      <th>205</th>\n",
              "      <td>0</td>\n",
              "      <td>49.7636</td>\n",
              "      <td>4331.0300</td>\n",
              "      <td>3</td>\n",
              "      <td>-0.011887</td>\n",
              "      <td>20.3521</td>\n",
              "      <td>5564</td>\n",
              "      <td>-0.285942</td>\n",
              "      <td>5.73463</td>\n",
              "      <td>0.002610</td>\n",
              "    </tr>\n",
              "    <tr>\n",
              "      <th>951</th>\n",
              "      <td>0</td>\n",
              "      <td>36.8699</td>\n",
              "      <td>2773.3400</td>\n",
              "      <td>2</td>\n",
              "      <td>-0.016797</td>\n",
              "      <td>31.3796</td>\n",
              "      <td>5861</td>\n",
              "      <td>0.984324</td>\n",
              "      <td>4.94969</td>\n",
              "      <td>0.002347</td>\n",
              "    </tr>\n",
              "    <tr>\n",
              "      <th>1059</th>\n",
              "      <td>1</td>\n",
              "      <td>138.1480</td>\n",
              "      <td>84.8528</td>\n",
              "      <td>122</td>\n",
              "      <td>0.193095</td>\n",
              "      <td>50.9814</td>\n",
              "      <td>2211</td>\n",
              "      <td>-2.404190</td>\n",
              "      <td>7.95850</td>\n",
              "      <td>0.506843</td>\n",
              "    </tr>\n",
              "  </tbody>\n",
              "</table>\n",
              "</div>"
            ],
            "text/plain": [
              "      Debris    Aspect  dist_drain  ...  TPI_Index  TWI_Index  Predictions\n",
              "192        0   66.3179   1380.3300  ...  -0.616279    3.96855     0.097050\n",
              "474        0   60.1240   3167.2400  ...   0.051206    4.10683     0.041140\n",
              "205        0   49.7636   4331.0300  ...  -0.285942    5.73463     0.002610\n",
              "951        0   36.8699   2773.3400  ...   0.984324    4.94969     0.002347\n",
              "1059       1  138.1480     84.8528  ...  -2.404190    7.95850     0.506843\n",
              "\n",
              "[5 rows x 10 columns]"
            ]
          },
          "metadata": {
            "tags": []
          },
          "execution_count": 43
        }
      ]
    },
    {
      "cell_type": "code",
      "metadata": {
        "id": "fzhhd5CiCYoe",
        "colab": {
          "base_uri": "https://localhost:8080/",
          "height": 162
        },
        "outputId": "8c52663b-bbdb-47f5-e5b1-fce667aba341"
      },
      "source": [
        "val_dataframe.to_csv(\"Predictions.csv\")"
      ],
      "execution_count": null,
      "outputs": [
        {
          "output_type": "error",
          "ename": "NameError",
          "evalue": "ignored",
          "traceback": [
            "\u001b[0;31m---------------------------------------------------------------------------\u001b[0m",
            "\u001b[0;31mNameError\u001b[0m                                 Traceback (most recent call last)",
            "\u001b[0;32m<ipython-input-1-7342202fe306>\u001b[0m in \u001b[0;36m<module>\u001b[0;34m()\u001b[0m\n\u001b[0;32m----> 1\u001b[0;31m \u001b[0mval_dataframe\u001b[0m\u001b[0;34m.\u001b[0m\u001b[0mto_csv\u001b[0m\u001b[0;34m(\u001b[0m\u001b[0;34m\"Predictions.csv\"\u001b[0m\u001b[0;34m)\u001b[0m\u001b[0;34m\u001b[0m\u001b[0;34m\u001b[0m\u001b[0m\n\u001b[0m",
            "\u001b[0;31mNameError\u001b[0m: name 'val_dataframe' is not defined"
          ]
        }
      ]
    },
    {
      "cell_type": "code",
      "metadata": {
        "id": "ZJmNKMI6CbLf"
      },
      "source": [
        ""
      ],
      "execution_count": null,
      "outputs": []
    }
  ]
}